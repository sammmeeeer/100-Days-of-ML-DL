{
 "cells": [
  {
   "cell_type": "markdown",
   "id": "ab164fde-7fe4-432c-b483-f3d8ebec448b",
   "metadata": {},
   "source": [
    "- [Reference](https://github.com/saurabhaloneai/History-of-Deep-Learning/blob/main/01-deep-neural-networks/01-dnn/01_dnn.ipynb)"
   ]
  },
  {
   "cell_type": "code",
   "execution_count": 1,
   "id": "6902ea68-b499-447c-9ec7-8f8d808139c3",
   "metadata": {},
   "outputs": [],
   "source": [
    "import math \n",
    "import numpy as np \n",
    "import matplotlib.pyplot as plt \n",
    "import torch "
   ]
  },
  {
   "cell_type": "code",
   "execution_count": 2,
   "id": "8a268236-9c89-465e-b2ff-421232599511",
   "metadata": {},
   "outputs": [],
   "source": [
    "class Tensor: \n",
    "\n",
    "    def __init__(self, data, _children=(), _op='', label=''):\n",
    "        self.data = data \n",
    "        self._op = _op\n",
    "        self._prev = set(_children)\n",
    "        self.grad = 0.0\n",
    "        self._backward = lambda: None\n",
    "        self.label = label\n",
    "\n",
    "    def __add__(self, other):\n",
    "        other = other if isinstance(other, Tensor) else Tensor(other)\n",
    "        out = Tensor(self.data + other.data, (self, other), '+')\n",
    "\n",
    "        def _backward():\n",
    "            self.grad += 1.0 * out.grad \n",
    "            other.grad += 1.0 * out.grad \n",
    "        out._backward = _backward\n",
    "\n",
    "        return out \n",
    "\n",
    "    def __mul__(self, other):\n",
    "        other = other if isinstance(other, Tensor) else Tensor (other)\n",
    "        out = Tensor(self.data * other.data, (self, other), '*')\n",
    "\n",
    "        def _backward():\n",
    "            self.grad += other.data * out.grad\n",
    "            other.grad += self.data * out.grad \n",
    "        out._backward = _backward \n",
    "\n",
    "        return out \n",
    "\n",
    "    def tanh(self):\n",
    "        x = self.data \n",
    "\n",
    "        t = (math.exp(2*x) - 1) / (math.exp(2*x) + 1)\n",
    "        out = Tensor(t, (self, ), 'tanh')\n",
    "\n",
    "        def _backward():\n",
    "            self.grad += (1 - t**2) * out.grad \n",
    "        out._backward = _backward \n",
    "        return out \n",
    "\n",
    "    def relu(self):\n",
    "        x = self.data \n",
    "        t = np.maximum(0, x)\n",
    "        out = Tensor(t, (self,), 'relu')\n",
    "\n",
    "        def _backward():\n",
    "            self.grad += (t > 0) * out.grad \n",
    "\n",
    "        out._backward = _backward \n",
    "\n",
    "        return out \n",
    "\n",
    "    def gelu(self):\n",
    "        x = self.data \n",
    "        t = 0.5 * x * (1 + np.tanh(np.sqrt(2 / np.pi) * (x + 0.44715 * np.power(x, 3))))\n",
    "        out = Tensor(t, (self, ), 'gelu')\n",
    "\n",
    "        def _backward():\n",
    "            tanh_out = np.tanh(np.sqrt(2 / np.pi) * (x + 0.044715 * np.power(x, 3)))\n",
    "            derivative = 0.5 * (1 + tanh_out + x * (1 - np.square(tanh_out)) * (np.sqrt(2 / np.pi) + 0.134145 *)))"
   ]
  },
  {
   "cell_type": "code",
   "execution_count": 3,
   "id": "1d652df9-f100-4e59-ad64-d73b3e48c212",
   "metadata": {},
   "outputs": [
    {
     "name": "stdout",
     "output_type": "stream",
     "text": [
      "Requirement already satisfied: micrograd in /home/sameer/miniforge3/lib/python3.10/site-packages (0.1.0)\n"
     ]
    }
   ],
   "source": [
    "!pip install micrograd"
   ]
  },
  {
   "cell_type": "code",
   "execution_count": 5,
   "id": "7d5b776e-bd9e-40ca-87f1-066e5a676916",
   "metadata": {},
   "outputs": [],
   "source": [
    "from micrograd.engine import Value"
   ]
  },
  {
   "cell_type": "code",
   "execution_count": null,
   "id": "36b54f41-dfd6-4409-9561-879ef01ee04e",
   "metadata": {},
   "outputs": [],
   "source": []
  }
 ],
 "metadata": {
  "kernelspec": {
   "display_name": "Python 3 (ipykernel)",
   "language": "python",
   "name": "python3"
  },
  "language_info": {
   "codemirror_mode": {
    "name": "ipython",
    "version": 3
   },
   "file_extension": ".py",
   "mimetype": "text/x-python",
   "name": "python",
   "nbconvert_exporter": "python",
   "pygments_lexer": "ipython3",
   "version": "3.10.13"
  }
 },
 "nbformat": 4,
 "nbformat_minor": 5
}
