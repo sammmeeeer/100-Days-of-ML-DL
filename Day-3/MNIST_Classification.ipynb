{
 "cells": [
  {
   "cell_type": "markdown",
   "id": "a8e55ff8-21c5-471a-a9bb-8b664abea8d1",
   "metadata": {},
   "source": [
    "## Handwritten Digit Classification using NNs"
   ]
  },
  {
   "cell_type": "code",
   "execution_count": 14,
   "id": "a260f6b8-6490-45b9-a68e-43c8a78a0635",
   "metadata": {},
   "outputs": [],
   "source": [
    "import torch\n",
    "import torch.nn as nn\n",
    "import torchvision \n",
    "import torch.optim as optim \n",
    "from torchvision import transforms, datasets \n",
    "import torch.nn.functional as F"
   ]
  },
  {
   "cell_type": "code",
   "execution_count": 7,
   "id": "b0db4f83-be0e-4b57-a119-e27948f7406a",
   "metadata": {},
   "outputs": [],
   "source": [
    "## Load the dataset and define hyperparams \n",
    "batch_size = 64 \n",
    "torch.manual_seed(1)\n",
    "num_epochs = 10 \n",
    "learning_rate = 0.001 "
   ]
  },
  {
   "cell_type": "code",
   "execution_count": 8,
   "id": "48b33d67-3a5c-4676-a252-d013f50b97f6",
   "metadata": {},
   "outputs": [],
   "source": [
    "transform = transforms.Compose([\n",
    "    transforms.ToTensor(),\n",
    "])"
   ]
  },
  {
   "cell_type": "code",
   "execution_count": 11,
   "id": "a5c5f988-e97c-4221-befe-56cd73684d45",
   "metadata": {},
   "outputs": [],
   "source": [
    "train_dataset = datasets.MNIST(root='.', train=True, download=True, transform=transform)\n",
    "test_dataset = datasets.MNIST(root='.', train=True, download=True, transform=transform)"
   ]
  },
  {
   "cell_type": "code",
   "execution_count": 20,
   "id": "5eba84e1-7221-44da-94e3-333282eb0a8a",
   "metadata": {},
   "outputs": [],
   "source": [
    "train_dl = torch.utils.data.DataLoader(train_dataset, batch_size, shuffle=True)\n",
    "test_dl = torch.utils.data.DataLoader(test_dataset, batch_size, shuffle=True)"
   ]
  },
  {
   "cell_type": "code",
   "execution_count": 32,
   "id": "4ce4e071-79a1-4561-9f8f-866701f40965",
   "metadata": {},
   "outputs": [],
   "source": [
    "class Net(nn.Module):\n",
    "    def __init__(self):\n",
    "        super(Net, self).__init__()\n",
    "        self.l1 = nn.Linear(28*28, 512)\n",
    "        self.bn1 = nn.BatchNorm1d(512)\n",
    "        self.l2 = nn.Linear(512, 256)\n",
    "        self.bn2 = nn.BatchNorm1d(256)\n",
    "        self.l3 = nn.Linear(256, 128)\n",
    "        self.bn3 = nn.BatchNorm1d(128)\n",
    "        self.l4 = nn.Linear(128, 10)\n",
    "        self.dropout = nn.Dropout(0.3)\n",
    "\n",
    "    def forward(self, x):\n",
    "        x = x.view(-1, 28*28)\n",
    "        x = F.relu(self.bn1(self.l1(x)))\n",
    "        x = self.dropout(x)\n",
    "        x = F.relu(self.bn2(self.l2(x)))\n",
    "        x = self.dropout(x)\n",
    "        x = F.relu(self.bn3(self.l3(x)))\n",
    "        x = self.dropout(x)\n",
    "        x = self.l4(x)\n",
    "        return x "
   ]
  },
  {
   "cell_type": "code",
   "execution_count": 33,
   "id": "be8de891-e8af-4281-b73b-9e34dda380e8",
   "metadata": {},
   "outputs": [],
   "source": [
    "device = torch.device('cuda')"
   ]
  },
  {
   "cell_type": "code",
   "execution_count": 34,
   "id": "034b7836-14e5-45db-8ba0-b8d7073e6567",
   "metadata": {},
   "outputs": [],
   "source": [
    "model = Net().to(device)\n",
    "loss_fn = nn.CrossEntropyLoss()\n",
    "optimizer = optim.Adam(model.parameters(), lr=learning_rate)\n",
    "scheduler = optim.lr_scheduler.ReduceLROnPlateau(optimizer, mode='min', factor=0.1, patience=3)"
   ]
  },
  {
   "cell_type": "code",
   "execution_count": 35,
   "id": "8c91d5fa-293b-4717-bd90-d865f715dcf8",
   "metadata": {},
   "outputs": [],
   "source": [
    "def accuracy(outputs, labels):\n",
    "    _, preds = torch.max(outputs, 1)\n",
    "    return torch.sum(preds == labels).item() / len(labels)"
   ]
  },
  {
   "cell_type": "code",
   "execution_count": 36,
   "id": "e63919eb-17db-4783-aa8c-e0a1a4c3db1a",
   "metadata": {},
   "outputs": [],
   "source": [
    "def train(model, device, train_dl, loss_fn, optimizer, num_epochs):\n",
    "    model.train()\n",
    "    running_loss, running_acc = 0.0, 0.0\n",
    "    for i, (inputs, labels) in enumerate(train_dl):\n",
    "        inputs, labels = inputs.to(device), labels.to(device)\n",
    "\n",
    "        optimizer.zero_grad()\n",
    "        outputs = model(inputs)\n",
    "        loss = loss_fn(outputs, labels)\n",
    "        loss.backward()\n",
    "        optimizer.step()\n",
    "\n",
    "        running_loss += loss.item()\n",
    "        running_acc += accuracy(outputs, labels)\n",
    "\n",
    "        if(i + 1) % 200 == 0:\n",
    "            print(f'Epoch {num_epochs}, Batch {i+1}, Loss: {running_loss/200:.4f}, Accuracy: {running_acc/200:.4f}')\n",
    "            running_loss, running_acc = 0.0, 0.0"
   ]
  },
  {
   "cell_type": "code",
   "execution_count": 37,
   "id": "f91a30bb-e00f-44af-ab9c-b55a37ae3f15",
   "metadata": {},
   "outputs": [],
   "source": [
    "def test(model, device, test_dl, loss_fn):\n",
    "    model.eval()\n",
    "    test_loss, test_acc = 0.0, 0.0\n",
    "    with torch.no_grad():\n",
    "        for inputs, labels in test_dl:\n",
    "            inputs, labels = inputs.to(device), labels.to(device)\n",
    "            outputs = model(inputs)\n",
    "            loss = loss_fn(outputs, labels)\n",
    "            test_loss += loss.item()\n",
    "            test_acc += accuracy(outputs, labels)\n",
    "\n",
    "    avg_loss, avg_acc = test_loss / len(test_dl), test_acc / len(test_dl)\n",
    "    print(f'Test Loss: {avg_loss:.4f}, Test Accuracy: {avg_acc:.4f}')\n",
    "    scheduler.step(avg_loss)"
   ]
  },
  {
   "cell_type": "code",
   "execution_count": 38,
   "id": "984d429a-e48d-4d07-ac97-74294fabe832",
   "metadata": {},
   "outputs": [
    {
     "name": "stdout",
     "output_type": "stream",
     "text": [
      "Epoch 1, Batch 200, Loss: 0.5505, Accuracy: 0.8491\n",
      "Epoch 1, Batch 400, Loss: 0.2608, Accuracy: 0.9263\n",
      "Epoch 1, Batch 600, Loss: 0.2286, Accuracy: 0.9327\n",
      "Epoch 1, Batch 800, Loss: 0.1960, Accuracy: 0.9402\n",
      "Test Loss: 0.0937, Test Accuracy: 0.9715\n",
      "Epoch 2, Batch 200, Loss: 0.1677, Accuracy: 0.9512\n",
      "Epoch 2, Batch 400, Loss: 0.1521, Accuracy: 0.9544\n",
      "Epoch 2, Batch 600, Loss: 0.1463, Accuracy: 0.9566\n",
      "Epoch 2, Batch 800, Loss: 0.1518, Accuracy: 0.9551\n",
      "Test Loss: 0.0612, Test Accuracy: 0.9815\n",
      "Epoch 3, Batch 200, Loss: 0.1138, Accuracy: 0.9655\n",
      "Epoch 3, Batch 400, Loss: 0.1287, Accuracy: 0.9592\n",
      "Epoch 3, Batch 600, Loss: 0.1244, Accuracy: 0.9620\n",
      "Epoch 3, Batch 800, Loss: 0.1145, Accuracy: 0.9650\n",
      "Test Loss: 0.0442, Test Accuracy: 0.9864\n",
      "Epoch 4, Batch 200, Loss: 0.0953, Accuracy: 0.9702\n",
      "Epoch 4, Batch 400, Loss: 0.1126, Accuracy: 0.9643\n",
      "Epoch 4, Batch 600, Loss: 0.1008, Accuracy: 0.9697\n",
      "Epoch 4, Batch 800, Loss: 0.0998, Accuracy: 0.9694\n",
      "Test Loss: 0.0364, Test Accuracy: 0.9885\n",
      "Epoch 5, Batch 200, Loss: 0.0842, Accuracy: 0.9755\n",
      "Epoch 5, Batch 400, Loss: 0.0899, Accuracy: 0.9731\n",
      "Epoch 5, Batch 600, Loss: 0.0946, Accuracy: 0.9734\n",
      "Epoch 5, Batch 800, Loss: 0.0918, Accuracy: 0.9723\n",
      "Test Loss: 0.0291, Test Accuracy: 0.9908\n",
      "Epoch 6, Batch 200, Loss: 0.0755, Accuracy: 0.9756\n",
      "Epoch 6, Batch 400, Loss: 0.0796, Accuracy: 0.9751\n",
      "Epoch 6, Batch 600, Loss: 0.0830, Accuracy: 0.9741\n",
      "Epoch 6, Batch 800, Loss: 0.0828, Accuracy: 0.9741\n",
      "Test Loss: 0.0270, Test Accuracy: 0.9915\n",
      "Epoch 7, Batch 200, Loss: 0.0701, Accuracy: 0.9775\n",
      "Epoch 7, Batch 400, Loss: 0.0718, Accuracy: 0.9784\n",
      "Epoch 7, Batch 600, Loss: 0.0693, Accuracy: 0.9788\n",
      "Epoch 7, Batch 800, Loss: 0.0731, Accuracy: 0.9782\n",
      "Test Loss: 0.0248, Test Accuracy: 0.9926\n",
      "Epoch 8, Batch 200, Loss: 0.0634, Accuracy: 0.9805\n",
      "Epoch 8, Batch 400, Loss: 0.0655, Accuracy: 0.9785\n",
      "Epoch 8, Batch 600, Loss: 0.0665, Accuracy: 0.9801\n",
      "Epoch 8, Batch 800, Loss: 0.0729, Accuracy: 0.9770\n",
      "Test Loss: 0.0188, Test Accuracy: 0.9944\n",
      "Epoch 9, Batch 200, Loss: 0.0614, Accuracy: 0.9804\n",
      "Epoch 9, Batch 400, Loss: 0.0568, Accuracy: 0.9833\n",
      "Epoch 9, Batch 600, Loss: 0.0648, Accuracy: 0.9780\n",
      "Epoch 9, Batch 800, Loss: 0.0630, Accuracy: 0.9795\n",
      "Test Loss: 0.0166, Test Accuracy: 0.9949\n",
      "Epoch 10, Batch 200, Loss: 0.0506, Accuracy: 0.9841\n",
      "Epoch 10, Batch 400, Loss: 0.0597, Accuracy: 0.9807\n",
      "Epoch 10, Batch 600, Loss: 0.0615, Accuracy: 0.9804\n",
      "Epoch 10, Batch 800, Loss: 0.0603, Accuracy: 0.9821\n",
      "Test Loss: 0.0143, Test Accuracy: 0.9959\n"
     ]
    }
   ],
   "source": [
    "for epoch in range(1, num_epochs + 1):\n",
    "    train(model, device, train_dl, loss_fn, optimizer, epoch)\n",
    "    test(model, device, test_dl, loss_fn)"
   ]
  },
  {
   "cell_type": "code",
   "execution_count": 42,
   "id": "7a20006d-417e-4b07-b95a-b6d8eef89b5b",
   "metadata": {},
   "outputs": [],
   "source": [
    "import matplotlib.pyplot as plt"
   ]
  },
  {
   "cell_type": "code",
   "execution_count": 44,
   "id": "312288d6-dcf4-4a7a-a849-1375a79686c1",
   "metadata": {},
   "outputs": [
    {
     "data": {
      "image/png": "[encoded data removed]",
      "text/plain": [
       "<Figure size 800x800 with 9 Axes>"
      ]
     },
     "metadata": {},
     "output_type": "display_data"
    }
   ],
   "source": [
    "def viz_predictions():\n",
    "    model.eval()\n",
    "    samples, labels = next(iter(test_dl))\n",
    "    samples = samples.to(device)\n",
    "    outputs = model(samples)\n",
    "    _, preds = torch.max(outputs, 1)\n",
    "\n",
    "    fig, axes = plt.subplots(3, 3, figsize=(8, 8))\n",
    "    for i, ax in enumerate(axes.ravel()):\n",
    "        ax.imshow(samples[i].cpu().numpy().squeeze(), cmap = 'gray')\n",
    "        ax.set_title(f'Label: {labels[i]}, Pred: {preds[i]}')\n",
    "        ax.axis('off')\n",
    "    plt.show()\n",
    "\n",
    "viz_predictions()"
   ]
  },
  {
   "cell_type": "code",
   "execution_count": null,
   "id": "4cd2e841-9079-4346-bf92-cf51c6913815",
   "metadata": {},
   "outputs": [],
   "source": []
  }
 ],
 "metadata": {
  "kernelspec": {
   "display_name": "Python 3 (ipykernel)",
   "language": "python",
   "name": "python3"
  },
  "language_info": {
   "codemirror_mode": {
    "name": "ipython",
    "version": 3
   },
   "file_extension": ".py",
   "mimetype": "text/x-python",
   "name": "python",
   "nbconvert_exporter": "python",
   "pygments_lexer": "ipython3",
   "version": "3.10.13"
  }
 },
 "nbformat": 4,
 "nbformat_minor": 5
}
